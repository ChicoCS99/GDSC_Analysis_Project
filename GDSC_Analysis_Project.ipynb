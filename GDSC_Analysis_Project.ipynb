{
  "cells": [
    {
      "cell_type": "markdown",
      "metadata": {
        "id": "SX0KVM6vwiGu"
      },
      "source": [
        "**Genomics of Drug Sensitivity in Cancer (GDSC) Analysis Project**\n",
        "\n",
        "The Genomics of Drug Sensitivity in Cancer (GDSC) dataset provides key insights into the relationship between genomic alterations and drug response in cancer cell lines. This project uses machine learning techniques to classify cell lines as sensitive or resistant to drugs, aiming to support advancements in personalized cancer treatments.\n",
        "\n",
        "The analysis pipeline includes data preprocessing, where missing values are handled, and categorical variables are encoded. To address the inherent class imbalance in the dataset, the SMOTETomek technique is applied, ensuring balanced training data for robust model performance. A Random Forest Classifier and an XGBoost Classifier are trained and evaluated using metrics like precision, recall, F1-score, and the AUC-ROC curve.\n",
        "\n",
        "Additionally, feature importance analysis highlights the most influential genomic and molecular factors contributing to drug sensitivity predictions. The evaluation on an unbalanced test set ensures the models' robustness in real-world scenarios.\n",
        "\n",
        "This project demonstrates the potential of machine learning in precision medicine, offering a pathway toward more effective, personalized cancer treatments.\n",
        "\n",
        "dataset taken from Kaggle:https://www.kaggle.com/datasets/samiraalipour/genomics-of-drug-sensitivity-in-cancer-gdsc"
      ]
    },
    {
      "cell_type": "code",
      "execution_count": null,
      "metadata": {
        "colab": {
          "base_uri": "https://localhost:8080/"
        },
        "id": "UwLpLsu0ylQ5",
        "outputId": "108bb6e2-a165-49f2-9631-472ced950c8e"
      },
      "outputs": [
        {
          "output_type": "stream",
          "name": "stdout",
          "text": [
            "Mounted at /content/drive\n"
          ]
        }
      ],
      "source": [
        "from google.colab import drive\n",
        "drive.mount('/content/drive')\n",
        "\n",
        "\n",
        "file_path = \"/content/drive/MyDrive/Colab Notebooks/GDSC_Project/GDSC_DATASET.csv\"\n",
        "\n",
        "import pandas as pd\n",
        "import matplotlib.pyplot as plt\n",
        "import seaborn as sns\n",
        "\n",
        "\n",
        "gdsc= pd.read_csv(file_path)\n"
      ]
    },
    {
      "cell_type": "markdown",
      "metadata": {
        "id": "5MEWuGrbeFGG"
      },
      "source": [
        "\n",
        "\n",
        "The dataset was loaded into a Pandas DataFrame for initial exploration. Basic descriptive statistics and structural information were retrieved to understand the data's dimensions, types, and completeness. Missing values were identified, and their proportions were calculated to guide the data cleaning process"
      ]
    },
    {
      "cell_type": "code",
      "execution_count": null,
      "metadata": {
        "colab": {
          "base_uri": "https://localhost:8080/",
          "height": 415
        },
        "id": "Lnz1SNR-F3RZ",
        "outputId": "c65c6b89-2e8f-4631-d4d9-c37374185ad2"
      },
      "outputs": [
        {
          "output_type": "execute_result",
          "data": {
            "text/plain": [
              "   COSMIC_ID  CELL_LINE_NAME  TCGA_DESC  DRUG_ID  DRUG_NAME   LN_IC50  \\\n",
              "0     683667             736         18     1003         73 -1.463887   \n",
              "1     684057             199         31     1003         73 -3.360586   \n",
              "2     684059             201         31     1003         73 -5.044940   \n",
              "3     684062             209         31     1003         73 -3.741991   \n",
              "4     684072             806         31     1003         73 -5.142961   \n",
              "5     687448             120         27     1003         73 -1.235034   \n",
              "6     687452               4          2     1003         73 -2.632632   \n",
              "7     687455             777          2     1003         73 -2.963191   \n",
              "8     687457             887          2     1003         73 -1.449138   \n",
              "9     687459             904          2     1003         73 -2.350633   \n",
              "\n",
              "        AUC   Z_SCORE  GDSC Tissue descriptor 1  GDSC Tissue descriptor 2  \\\n",
              "0  0.930220  0.433123                        12                        36   \n",
              "1  0.791072 -0.599569                         1                        17   \n",
              "2  0.592660 -1.516647                         1                        17   \n",
              "3  0.734047 -0.807232                         1                        17   \n",
              "4  0.582439 -1.570016                         1                        17   \n",
              "5  0.867348  0.557727                        15                        37   \n",
              "6  0.834067 -0.203221                        19                        54   \n",
              "7  0.821438 -0.383200                        18                         2   \n",
              "8  0.905050  0.441154                        18                         2   \n",
              "9  0.843430 -0.049682                        18                         2   \n",
              "\n",
              "   Growth Properties  CNA  Gene Expression  Methylation  TARGET  \\\n",
              "0                  0    1                1            1     165   \n",
              "1                  0    1                1            1     165   \n",
              "2                  0    1                1            1     165   \n",
              "3                  0    1                1            1     165   \n",
              "4                  1    1                1            1     165   \n",
              "5                  0    1                1            1     165   \n",
              "6                  3    2                2            2     165   \n",
              "7                  0    1                1            1     165   \n",
              "8                  0    1                1            1     165   \n",
              "9                  0    1                1            1     165   \n",
              "\n",
              "   TARGET_PATHWAY  Category  \n",
              "0               7  Sensible  \n",
              "1               7  Sensible  \n",
              "2               7  Sensible  \n",
              "3               7  Sensible  \n",
              "4               7  Sensible  \n",
              "5               7  Sensible  \n",
              "6               7  Sensible  \n",
              "7               7  Sensible  \n",
              "8               7  Sensible  \n",
              "9               7  Sensible  "
            ],
            "text/html": [
              "\n",
              "  <div id=\"df-d81d3c7d-94ea-4854-8c0f-3ef6b1139a45\" class=\"colab-df-container\">\n",
              "    <div>\n",
              "<style scoped>\n",
              "    .dataframe tbody tr th:only-of-type {\n",
              "        vertical-align: middle;\n",
              "    }\n",
              "\n",
              "    .dataframe tbody tr th {\n",
              "        vertical-align: top;\n",
              "    }\n",
              "\n",
              "    .dataframe thead th {\n",
              "        text-align: right;\n",
              "    }\n",
              "</style>\n",
              "<table border=\"1\" class=\"dataframe\">\n",
              "  <thead>\n",
              "    <tr style=\"text-align: right;\">\n",
              "      <th></th>\n",
              "      <th>COSMIC_ID</th>\n",
              "      <th>CELL_LINE_NAME</th>\n",
              "      <th>TCGA_DESC</th>\n",
              "      <th>DRUG_ID</th>\n",
              "      <th>DRUG_NAME</th>\n",
              "      <th>LN_IC50</th>\n",
              "      <th>AUC</th>\n",
              "      <th>Z_SCORE</th>\n",
              "      <th>GDSC Tissue descriptor 1</th>\n",
              "      <th>GDSC Tissue descriptor 2</th>\n",
              "      <th>Growth Properties</th>\n",
              "      <th>CNA</th>\n",
              "      <th>Gene Expression</th>\n",
              "      <th>Methylation</th>\n",
              "      <th>TARGET</th>\n",
              "      <th>TARGET_PATHWAY</th>\n",
              "      <th>Category</th>\n",
              "    </tr>\n",
              "  </thead>\n",
              "  <tbody>\n",
              "    <tr>\n",
              "      <th>0</th>\n",
              "      <td>683667</td>\n",
              "      <td>736</td>\n",
              "      <td>18</td>\n",
              "      <td>1003</td>\n",
              "      <td>73</td>\n",
              "      <td>-1.463887</td>\n",
              "      <td>0.930220</td>\n",
              "      <td>0.433123</td>\n",
              "      <td>12</td>\n",
              "      <td>36</td>\n",
              "      <td>0</td>\n",
              "      <td>1</td>\n",
              "      <td>1</td>\n",
              "      <td>1</td>\n",
              "      <td>165</td>\n",
              "      <td>7</td>\n",
              "      <td>Sensible</td>\n",
              "    </tr>\n",
              "    <tr>\n",
              "      <th>1</th>\n",
              "      <td>684057</td>\n",
              "      <td>199</td>\n",
              "      <td>31</td>\n",
              "      <td>1003</td>\n",
              "      <td>73</td>\n",
              "      <td>-3.360586</td>\n",
              "      <td>0.791072</td>\n",
              "      <td>-0.599569</td>\n",
              "      <td>1</td>\n",
              "      <td>17</td>\n",
              "      <td>0</td>\n",
              "      <td>1</td>\n",
              "      <td>1</td>\n",
              "      <td>1</td>\n",
              "      <td>165</td>\n",
              "      <td>7</td>\n",
              "      <td>Sensible</td>\n",
              "    </tr>\n",
              "    <tr>\n",
              "      <th>2</th>\n",
              "      <td>684059</td>\n",
              "      <td>201</td>\n",
              "      <td>31</td>\n",
              "      <td>1003</td>\n",
              "      <td>73</td>\n",
              "      <td>-5.044940</td>\n",
              "      <td>0.592660</td>\n",
              "      <td>-1.516647</td>\n",
              "      <td>1</td>\n",
              "      <td>17</td>\n",
              "      <td>0</td>\n",
              "      <td>1</td>\n",
              "      <td>1</td>\n",
              "      <td>1</td>\n",
              "      <td>165</td>\n",
              "      <td>7</td>\n",
              "      <td>Sensible</td>\n",
              "    </tr>\n",
              "    <tr>\n",
              "      <th>3</th>\n",
              "      <td>684062</td>\n",
              "      <td>209</td>\n",
              "      <td>31</td>\n",
              "      <td>1003</td>\n",
              "      <td>73</td>\n",
              "      <td>-3.741991</td>\n",
              "      <td>0.734047</td>\n",
              "      <td>-0.807232</td>\n",
              "      <td>1</td>\n",
              "      <td>17</td>\n",
              "      <td>0</td>\n",
              "      <td>1</td>\n",
              "      <td>1</td>\n",
              "      <td>1</td>\n",
              "      <td>165</td>\n",
              "      <td>7</td>\n",
              "      <td>Sensible</td>\n",
              "    </tr>\n",
              "    <tr>\n",
              "      <th>4</th>\n",
              "      <td>684072</td>\n",
              "      <td>806</td>\n",
              "      <td>31</td>\n",
              "      <td>1003</td>\n",
              "      <td>73</td>\n",
              "      <td>-5.142961</td>\n",
              "      <td>0.582439</td>\n",
              "      <td>-1.570016</td>\n",
              "      <td>1</td>\n",
              "      <td>17</td>\n",
              "      <td>1</td>\n",
              "      <td>1</td>\n",
              "      <td>1</td>\n",
              "      <td>1</td>\n",
              "      <td>165</td>\n",
              "      <td>7</td>\n",
              "      <td>Sensible</td>\n",
              "    </tr>\n",
              "    <tr>\n",
              "      <th>5</th>\n",
              "      <td>687448</td>\n",
              "      <td>120</td>\n",
              "      <td>27</td>\n",
              "      <td>1003</td>\n",
              "      <td>73</td>\n",
              "      <td>-1.235034</td>\n",
              "      <td>0.867348</td>\n",
              "      <td>0.557727</td>\n",
              "      <td>15</td>\n",
              "      <td>37</td>\n",
              "      <td>0</td>\n",
              "      <td>1</td>\n",
              "      <td>1</td>\n",
              "      <td>1</td>\n",
              "      <td>165</td>\n",
              "      <td>7</td>\n",
              "      <td>Sensible</td>\n",
              "    </tr>\n",
              "    <tr>\n",
              "      <th>6</th>\n",
              "      <td>687452</td>\n",
              "      <td>4</td>\n",
              "      <td>2</td>\n",
              "      <td>1003</td>\n",
              "      <td>73</td>\n",
              "      <td>-2.632632</td>\n",
              "      <td>0.834067</td>\n",
              "      <td>-0.203221</td>\n",
              "      <td>19</td>\n",
              "      <td>54</td>\n",
              "      <td>3</td>\n",
              "      <td>2</td>\n",
              "      <td>2</td>\n",
              "      <td>2</td>\n",
              "      <td>165</td>\n",
              "      <td>7</td>\n",
              "      <td>Sensible</td>\n",
              "    </tr>\n",
              "    <tr>\n",
              "      <th>7</th>\n",
              "      <td>687455</td>\n",
              "      <td>777</td>\n",
              "      <td>2</td>\n",
              "      <td>1003</td>\n",
              "      <td>73</td>\n",
              "      <td>-2.963191</td>\n",
              "      <td>0.821438</td>\n",
              "      <td>-0.383200</td>\n",
              "      <td>18</td>\n",
              "      <td>2</td>\n",
              "      <td>0</td>\n",
              "      <td>1</td>\n",
              "      <td>1</td>\n",
              "      <td>1</td>\n",
              "      <td>165</td>\n",
              "      <td>7</td>\n",
              "      <td>Sensible</td>\n",
              "    </tr>\n",
              "    <tr>\n",
              "      <th>8</th>\n",
              "      <td>687457</td>\n",
              "      <td>887</td>\n",
              "      <td>2</td>\n",
              "      <td>1003</td>\n",
              "      <td>73</td>\n",
              "      <td>-1.449138</td>\n",
              "      <td>0.905050</td>\n",
              "      <td>0.441154</td>\n",
              "      <td>18</td>\n",
              "      <td>2</td>\n",
              "      <td>0</td>\n",
              "      <td>1</td>\n",
              "      <td>1</td>\n",
              "      <td>1</td>\n",
              "      <td>165</td>\n",
              "      <td>7</td>\n",
              "      <td>Sensible</td>\n",
              "    </tr>\n",
              "    <tr>\n",
              "      <th>9</th>\n",
              "      <td>687459</td>\n",
              "      <td>904</td>\n",
              "      <td>2</td>\n",
              "      <td>1003</td>\n",
              "      <td>73</td>\n",
              "      <td>-2.350633</td>\n",
              "      <td>0.843430</td>\n",
              "      <td>-0.049682</td>\n",
              "      <td>18</td>\n",
              "      <td>2</td>\n",
              "      <td>0</td>\n",
              "      <td>1</td>\n",
              "      <td>1</td>\n",
              "      <td>1</td>\n",
              "      <td>165</td>\n",
              "      <td>7</td>\n",
              "      <td>Sensible</td>\n",
              "    </tr>\n",
              "  </tbody>\n",
              "</table>\n",
              "</div>\n",
              "    <div class=\"colab-df-buttons\">\n",
              "\n",
              "  <div class=\"colab-df-container\">\n",
              "    <button class=\"colab-df-convert\" onclick=\"convertToInteractive('df-d81d3c7d-94ea-4854-8c0f-3ef6b1139a45')\"\n",
              "            title=\"Convert this dataframe to an interactive table.\"\n",
              "            style=\"display:none;\">\n",
              "\n",
              "  <svg xmlns=\"http://www.w3.org/2000/svg\" height=\"24px\" viewBox=\"0 -960 960 960\">\n",
              "    <path d=\"M120-120v-720h720v720H120Zm60-500h600v-160H180v160Zm220 220h160v-160H400v160Zm0 220h160v-160H400v160ZM180-400h160v-160H180v160Zm440 0h160v-160H620v160ZM180-180h160v-160H180v160Zm440 0h160v-160H620v160Z\"/>\n",
              "  </svg>\n",
              "    </button>\n",
              "\n",
              "  <style>\n",
              "    .colab-df-container {\n",
              "      display:flex;\n",
              "      gap: 12px;\n",
              "    }\n",
              "\n",
              "    .colab-df-convert {\n",
              "      background-color: #E8F0FE;\n",
              "      border: none;\n",
              "      border-radius: 50%;\n",
              "      cursor: pointer;\n",
              "      display: none;\n",
              "      fill: #1967D2;\n",
              "      height: 32px;\n",
              "      padding: 0 0 0 0;\n",
              "      width: 32px;\n",
              "    }\n",
              "\n",
              "    .colab-df-convert:hover {\n",
              "      background-color: #E2EBFA;\n",
              "      box-shadow: 0px 1px 2px rgba(60, 64, 67, 0.3), 0px 1px 3px 1px rgba(60, 64, 67, 0.15);\n",
              "      fill: #174EA6;\n",
              "    }\n",
              "\n",
              "    .colab-df-buttons div {\n",
              "      margin-bottom: 4px;\n",
              "    }\n",
              "\n",
              "    [theme=dark] .colab-df-convert {\n",
              "      background-color: #3B4455;\n",
              "      fill: #D2E3FC;\n",
              "    }\n",
              "\n",
              "    [theme=dark] .colab-df-convert:hover {\n",
              "      background-color: #434B5C;\n",
              "      box-shadow: 0px 1px 3px 1px rgba(0, 0, 0, 0.15);\n",
              "      filter: drop-shadow(0px 1px 2px rgba(0, 0, 0, 0.3));\n",
              "      fill: #FFFFFF;\n",
              "    }\n",
              "  </style>\n",
              "\n",
              "    <script>\n",
              "      const buttonEl =\n",
              "        document.querySelector('#df-d81d3c7d-94ea-4854-8c0f-3ef6b1139a45 button.colab-df-convert');\n",
              "      buttonEl.style.display =\n",
              "        google.colab.kernel.accessAllowed ? 'block' : 'none';\n",
              "\n",
              "      async function convertToInteractive(key) {\n",
              "        const element = document.querySelector('#df-d81d3c7d-94ea-4854-8c0f-3ef6b1139a45');\n",
              "        const dataTable =\n",
              "          await google.colab.kernel.invokeFunction('convertToInteractive',\n",
              "                                                    [key], {});\n",
              "        if (!dataTable) return;\n",
              "\n",
              "        const docLinkHtml = 'Like what you see? Visit the ' +\n",
              "          '<a target=\"_blank\" href=https://colab.research.google.com/notebooks/data_table.ipynb>data table notebook</a>'\n",
              "          + ' to learn more about interactive tables.';\n",
              "        element.innerHTML = '';\n",
              "        dataTable['output_type'] = 'display_data';\n",
              "        await google.colab.output.renderOutput(dataTable, element);\n",
              "        const docLink = document.createElement('div');\n",
              "        docLink.innerHTML = docLinkHtml;\n",
              "        element.appendChild(docLink);\n",
              "      }\n",
              "    </script>\n",
              "  </div>\n",
              "\n",
              "\n",
              "<div id=\"df-f83e21b6-819a-4931-8a97-bc714ddee30d\">\n",
              "  <button class=\"colab-df-quickchart\" onclick=\"quickchart('df-f83e21b6-819a-4931-8a97-bc714ddee30d')\"\n",
              "            title=\"Suggest charts\"\n",
              "            style=\"display:none;\">\n",
              "\n",
              "<svg xmlns=\"http://www.w3.org/2000/svg\" height=\"24px\"viewBox=\"0 0 24 24\"\n",
              "     width=\"24px\">\n",
              "    <g>\n",
              "        <path d=\"M19 3H5c-1.1 0-2 .9-2 2v14c0 1.1.9 2 2 2h14c1.1 0 2-.9 2-2V5c0-1.1-.9-2-2-2zM9 17H7v-7h2v7zm4 0h-2V7h2v10zm4 0h-2v-4h2v4z\"/>\n",
              "    </g>\n",
              "</svg>\n",
              "  </button>\n",
              "\n",
              "<style>\n",
              "  .colab-df-quickchart {\n",
              "      --bg-color: #E8F0FE;\n",
              "      --fill-color: #1967D2;\n",
              "      --hover-bg-color: #E2EBFA;\n",
              "      --hover-fill-color: #174EA6;\n",
              "      --disabled-fill-color: #AAA;\n",
              "      --disabled-bg-color: #DDD;\n",
              "  }\n",
              "\n",
              "  [theme=dark] .colab-df-quickchart {\n",
              "      --bg-color: #3B4455;\n",
              "      --fill-color: #D2E3FC;\n",
              "      --hover-bg-color: #434B5C;\n",
              "      --hover-fill-color: #FFFFFF;\n",
              "      --disabled-bg-color: #3B4455;\n",
              "      --disabled-fill-color: #666;\n",
              "  }\n",
              "\n",
              "  .colab-df-quickchart {\n",
              "    background-color: var(--bg-color);\n",
              "    border: none;\n",
              "    border-radius: 50%;\n",
              "    cursor: pointer;\n",
              "    display: none;\n",
              "    fill: var(--fill-color);\n",
              "    height: 32px;\n",
              "    padding: 0;\n",
              "    width: 32px;\n",
              "  }\n",
              "\n",
              "  .colab-df-quickchart:hover {\n",
              "    background-color: var(--hover-bg-color);\n",
              "    box-shadow: 0 1px 2px rgba(60, 64, 67, 0.3), 0 1px 3px 1px rgba(60, 64, 67, 0.15);\n",
              "    fill: var(--button-hover-fill-color);\n",
              "  }\n",
              "\n",
              "  .colab-df-quickchart-complete:disabled,\n",
              "  .colab-df-quickchart-complete:disabled:hover {\n",
              "    background-color: var(--disabled-bg-color);\n",
              "    fill: var(--disabled-fill-color);\n",
              "    box-shadow: none;\n",
              "  }\n",
              "\n",
              "  .colab-df-spinner {\n",
              "    border: 2px solid var(--fill-color);\n",
              "    border-color: transparent;\n",
              "    border-bottom-color: var(--fill-color);\n",
              "    animation:\n",
              "      spin 1s steps(1) infinite;\n",
              "  }\n",
              "\n",
              "  @keyframes spin {\n",
              "    0% {\n",
              "      border-color: transparent;\n",
              "      border-bottom-color: var(--fill-color);\n",
              "      border-left-color: var(--fill-color);\n",
              "    }\n",
              "    20% {\n",
              "      border-color: transparent;\n",
              "      border-left-color: var(--fill-color);\n",
              "      border-top-color: var(--fill-color);\n",
              "    }\n",
              "    30% {\n",
              "      border-color: transparent;\n",
              "      border-left-color: var(--fill-color);\n",
              "      border-top-color: var(--fill-color);\n",
              "      border-right-color: var(--fill-color);\n",
              "    }\n",
              "    40% {\n",
              "      border-color: transparent;\n",
              "      border-right-color: var(--fill-color);\n",
              "      border-top-color: var(--fill-color);\n",
              "    }\n",
              "    60% {\n",
              "      border-color: transparent;\n",
              "      border-right-color: var(--fill-color);\n",
              "    }\n",
              "    80% {\n",
              "      border-color: transparent;\n",
              "      border-right-color: var(--fill-color);\n",
              "      border-bottom-color: var(--fill-color);\n",
              "    }\n",
              "    90% {\n",
              "      border-color: transparent;\n",
              "      border-bottom-color: var(--fill-color);\n",
              "    }\n",
              "  }\n",
              "</style>\n",
              "\n",
              "  <script>\n",
              "    async function quickchart(key) {\n",
              "      const quickchartButtonEl =\n",
              "        document.querySelector('#' + key + ' button');\n",
              "      quickchartButtonEl.disabled = true;  // To prevent multiple clicks.\n",
              "      quickchartButtonEl.classList.add('colab-df-spinner');\n",
              "      try {\n",
              "        const charts = await google.colab.kernel.invokeFunction(\n",
              "            'suggestCharts', [key], {});\n",
              "      } catch (error) {\n",
              "        console.error('Error during call to suggestCharts:', error);\n",
              "      }\n",
              "      quickchartButtonEl.classList.remove('colab-df-spinner');\n",
              "      quickchartButtonEl.classList.add('colab-df-quickchart-complete');\n",
              "    }\n",
              "    (() => {\n",
              "      let quickchartButtonEl =\n",
              "        document.querySelector('#df-f83e21b6-819a-4931-8a97-bc714ddee30d button');\n",
              "      quickchartButtonEl.style.display =\n",
              "        google.colab.kernel.accessAllowed ? 'block' : 'none';\n",
              "    })();\n",
              "  </script>\n",
              "</div>\n",
              "\n",
              "    </div>\n",
              "  </div>\n"
            ],
            "application/vnd.google.colaboratory.intrinsic+json": {
              "type": "dataframe",
              "variable_name": "gdsc"
            }
          },
          "metadata": {},
          "execution_count": 12
        }
      ],
      "source": [
        "# Visualize  first 10 Rows\n",
        "gdsc.head(10)"
      ]
    },
    {
      "cell_type": "code",
      "execution_count": null,
      "metadata": {
        "colab": {
          "base_uri": "https://localhost:8080/"
        },
        "id": "f0omzZLoGAK5",
        "outputId": "75c07834-3c94-4bc2-a0eb-d309b4c44e04"
      },
      "outputs": [
        {
          "output_type": "stream",
          "name": "stdout",
          "text": [
            "<class 'pandas.core.frame.DataFrame'>\n",
            "RangeIndex: 242035 entries, 0 to 242034\n",
            "Data columns (total 19 columns):\n",
            " #   Column                                   Non-Null Count   Dtype  \n",
            "---  ------                                   --------------   -----  \n",
            " 0   COSMIC_ID                                242035 non-null  int64  \n",
            " 1   CELL_LINE_NAME                           242035 non-null  object \n",
            " 2   TCGA_DESC                                240968 non-null  object \n",
            " 3   DRUG_ID                                  242035 non-null  int64  \n",
            " 4   DRUG_NAME                                242035 non-null  object \n",
            " 5   LN_IC50                                  242035 non-null  float64\n",
            " 6   AUC                                      242035 non-null  float64\n",
            " 7   Z_SCORE                                  242035 non-null  float64\n",
            " 8   GDSC Tissue descriptor 1                 232669 non-null  object \n",
            " 9   GDSC Tissue descriptor 2                 232669 non-null  object \n",
            " 10  Cancer Type (matching TCGA label)        190589 non-null  object \n",
            " 11  Microsatellite instability Status (MSI)  229682 non-null  object \n",
            " 12  Screen Medium                            232669 non-null  object \n",
            " 13  Growth Properties                        232669 non-null  object \n",
            " 14  CNA                                      232669 non-null  object \n",
            " 15  Gene Expression                          232669 non-null  object \n",
            " 16  Methylation                              232669 non-null  object \n",
            " 17  TARGET                                   214880 non-null  object \n",
            " 18  TARGET_PATHWAY                           242035 non-null  object \n",
            "dtypes: float64(3), int64(2), object(14)\n",
            "memory usage: 35.1+ MB\n"
          ]
        }
      ],
      "source": [
        "\n",
        "gdsc.info()\n"
      ]
    },
    {
      "cell_type": "markdown",
      "metadata": {
        "id": "0R3LBR3mxLpD"
      },
      "source": [
        "The following attributes have some missing observations:\n",
        "\n",
        "\n",
        "\n",
        "*   TCGA_DESC   \n",
        "*   GDSC Tissue descriptor 1             \n",
        "\n",
        "*   GDSC Tissue descriptor 2\n",
        "*   Cancer Type (matching TCGA label)         \n",
        "\n",
        "*   Microsatellite instability Status (MSI)\n",
        "*   Screen Medium                            \n",
        "\n",
        "*   Growth Properties\n",
        "*   CNA  \n",
        "*   Gene Expression\n",
        "\n",
        "*    Methylation\n",
        "\n",
        "*   TARGET\n",
        "\n",
        "\n",
        "\n",
        "\n",
        "\n",
        "\n",
        "\n",
        "\n",
        "\n",
        "\n",
        "\n",
        "\n",
        "\n",
        "\n",
        "\n"
      ]
    },
    {
      "cell_type": "code",
      "execution_count": null,
      "metadata": {
        "colab": {
          "base_uri": "https://localhost:8080/"
        },
        "id": "WmCxInDBIv39",
        "outputId": "dbed0fab-1ead-4f5c-b023-54d3fb820c2a"
      },
      "outputs": [
        {
          "output_type": "stream",
          "name": "stdout",
          "text": [
            "Missed value:\n",
            "\n",
            "COSMIC_ID                                      0\n",
            "CELL_LINE_NAME                                 0\n",
            "TCGA_DESC                                   1067\n",
            "DRUG_ID                                        0\n",
            "DRUG_NAME                                      0\n",
            "LN_IC50                                        0\n",
            "AUC                                            0\n",
            "Z_SCORE                                        0\n",
            "GDSC Tissue descriptor 1                    9366\n",
            "GDSC Tissue descriptor 2                    9366\n",
            "Cancer Type (matching TCGA label)          51446\n",
            "Microsatellite instability Status (MSI)    12353\n",
            "Screen Medium                               9366\n",
            "Growth Properties                           9366\n",
            "CNA                                         9366\n",
            "Gene Expression                             9366\n",
            "Methylation                                 9366\n",
            "TARGET                                     27155\n",
            "TARGET_PATHWAY                                 0\n",
            "dtype: int64\n",
            "% of missed value per columns :\n",
            "\n",
            "COSMIC_ID                                   0.000000\n",
            "CELL_LINE_NAME                              0.000000\n",
            "TCGA_DESC                                   0.440845\n",
            "DRUG_ID                                     0.000000\n",
            "DRUG_NAME                                   0.000000\n",
            "LN_IC50                                     0.000000\n",
            "AUC                                         0.000000\n",
            "Z_SCORE                                     0.000000\n",
            "GDSC Tissue descriptor 1                    3.869688\n",
            "GDSC Tissue descriptor 2                    3.869688\n",
            "Cancer Type (matching TCGA label)          21.255604\n",
            "Microsatellite instability Status (MSI)     5.103807\n",
            "Screen Medium                               3.869688\n",
            "Growth Properties                           3.869688\n",
            "CNA                                         3.869688\n",
            "Gene Expression                             3.869688\n",
            "Methylation                                 3.869688\n",
            "TARGET                                     11.219452\n",
            "TARGET_PATHWAY                              0.000000\n",
            "dtype: float64\n"
          ]
        }
      ],
      "source": [
        "\n",
        "print(\"Missed value:\\n\")\n",
        "print(gdsc.isnull().sum())\n",
        "\n",
        "\n",
        "missing_percentage = (gdsc.isnull().sum() / len(gdsc)) * 100\n",
        "print(\"% of missed value per columns :\\n\")\n",
        "print(missing_percentage)\n"
      ]
    },
    {
      "cell_type": "markdown",
      "metadata": {
        "id": "EG_-9_dh0w07"
      },
      "source": [
        "\n",
        "Columns with excessive missing values were removed to reduce noise and improve model performance"
      ]
    },
    {
      "cell_type": "code",
      "execution_count": null,
      "metadata": {
        "colab": {
          "base_uri": "https://localhost:8080/"
        },
        "id": "Y_CSW7f0qK5t",
        "outputId": "301077f0-8d10-43cd-80c9-81cb4423b92c"
      },
      "outputs": [
        {
          "output_type": "stream",
          "name": "stdout",
          "text": [
            "Most frequent value TARGET: PARP1, PARP2\n",
            "MIssed value after imputation : 0\n",
            "Dimension after cleaning : (242035, 16)\n"
          ]
        }
      ],
      "source": [
        "#removing column with a lot of missing value\n",
        "\n",
        "gdsc=gdsc.drop(columns=[\"Cancer Type (matching TCGA label)\",\"Microsatellite instability Status (MSI)\",\"Screen Medium\"])\n",
        "\n",
        "print(\"Most frequent value TARGET:\", gdsc['TARGET'].mode()[0])\n",
        "\n",
        "\n",
        "gdsc['TARGET'] = gdsc['TARGET'].fillna(gdsc['TARGET'].mode()[0])\n",
        "print(\"MIssed value after imputation :\", gdsc['TARGET'].isnull().sum())\n",
        "\n",
        "\n",
        "\n",
        "print(\"Dimension after cleaning :\", gdsc.shape)\n",
        "\n"
      ]
    },
    {
      "cell_type": "markdown",
      "source": [
        "Non-numeric categorical data were encoded using LabelEncoder to transform them into a format suitable for machine learning algorithms. This step was essential for enabling the models to process all features effectively."
      ],
      "metadata": {
        "id": "JlfvJp00C4Qx"
      }
    },
    {
      "cell_type": "code",
      "execution_count": null,
      "metadata": {
        "colab": {
          "base_uri": "https://localhost:8080/"
        },
        "id": "0UwtbLiYAyMJ",
        "outputId": "1ff50e07-6d48-4147-9b9d-ab29e2f80cab"
      },
      "outputs": [
        {
          "output_type": "stream",
          "name": "stdout",
          "text": [
            "Categorical columns to encode: Index(['CELL_LINE_NAME', 'TCGA_DESC', 'DRUG_NAME', 'GDSC Tissue descriptor 1',\n",
            "       'GDSC Tissue descriptor 2', 'Growth Properties', 'CNA',\n",
            "       'Gene Expression', 'Methylation', 'TARGET', 'TARGET_PATHWAY'],\n",
            "      dtype='object')\n",
            "\n",
            "Dataset after encoding:\n",
            "   COSMIC_ID  CELL_LINE_NAME  TCGA_DESC  DRUG_ID  DRUG_NAME   LN_IC50  \\\n",
            "0     683667             736         18     1003         73 -1.463887   \n",
            "1     684057             199         31     1003         73 -3.360586   \n",
            "2     684059             201         31     1003         73 -5.044940   \n",
            "3     684062             209         31     1003         73 -3.741991   \n",
            "4     684072             806         31     1003         73 -5.142961   \n",
            "\n",
            "        AUC   Z_SCORE  GDSC Tissue descriptor 1  GDSC Tissue descriptor 2  \\\n",
            "0  0.930220  0.433123                        12                        36   \n",
            "1  0.791072 -0.599569                         1                        17   \n",
            "2  0.592660 -1.516647                         1                        17   \n",
            "3  0.734047 -0.807232                         1                        17   \n",
            "4  0.582439 -1.570016                         1                        17   \n",
            "\n",
            "   Growth Properties  CNA  Gene Expression  Methylation  TARGET  \\\n",
            "0                  0    1                1            1     165   \n",
            "1                  0    1                1            1     165   \n",
            "2                  0    1                1            1     165   \n",
            "3                  0    1                1            1     165   \n",
            "4                  1    1                1            1     165   \n",
            "\n",
            "   TARGET_PATHWAY  \n",
            "0               7  \n",
            "1               7  \n",
            "2               7  \n",
            "3               7  \n",
            "4               7  \n"
          ]
        }
      ],
      "source": [
        "\n",
        "from sklearn.preprocessing import LabelEncoder\n",
        "\n",
        "\n",
        "\n",
        "#Handling of Text and categorial Attributes\n",
        "\n",
        "le = LabelEncoder()\n",
        "\n",
        "\n",
        "categorical_columns = gdsc.select_dtypes(include=['object']).columns\n",
        "print(\"Categorical columns to encode:\", categorical_columns)\n",
        "\n",
        "\n",
        "for col in categorical_columns:\n",
        "    gdsc[col] = le.fit_transform(gdsc[col])\n",
        "\n",
        "print(\"\\nDataset after encoding:\")\n",
        "print(gdsc.head())"
      ]
    },
    {
      "cell_type": "code",
      "execution_count": null,
      "metadata": {
        "colab": {
          "base_uri": "https://localhost:8080/",
          "height": 416
        },
        "id": "fn3dHn37vOlq",
        "outputId": "b11639d6-d637-43a2-b9c6-fcde573c6316"
      },
      "outputs": [
        {
          "output_type": "display_data",
          "data": {
            "text/plain": [
              "<Figure size 800x400 with 1 Axes>"
            ],
            "image/png": "[encoded data removed]"
          },
          "metadata": {}
        }
      ],
      "source": [
        "# Distribution of IC50\n",
        "plt.figure(figsize=(8, 4))\n",
        "sns.histplot(gdsc['LN_IC50'], bins=30, kde=True, color='blue')\n",
        "\n",
        "plt.axvline(x=1, color='red', linestyle='--', label='threshold 0.5 μM')\n",
        "plt.title('Distribution of LN_IC50', fontsize=16)\n",
        "plt.xlabel('LN_IC50', fontsize=12)\n",
        "plt.ylabel('Frequencies', fontsize=12)\n",
        "plt.legend()\n",
        "plt.show()"
      ]
    },
    {
      "cell_type": "markdown",
      "source": [
        "The target variable LN_IC50 was used to create a new column, Category, to classify cancer cell lines as sensitive or resistant based on a threshold of 0.5. This threshold was chosen to reflect standard literature practices while aligning with the dataset's characteristics"
      ],
      "metadata": {
        "id": "A4NKrOjVDjtt"
      }
    },
    {
      "cell_type": "code",
      "execution_count": null,
      "metadata": {
        "colab": {
          "base_uri": "https://localhost:8080/"
        },
        "id": "U8M2TUKr0wPy",
        "outputId": "ebd21681-aa34-4233-d777-9658a9360bcc"
      },
      "outputs": [
        {
          "output_type": "stream",
          "name": "stdout",
          "text": [
            "     LN_IC50   Category\n",
            "0  -1.463887   Sensible\n",
            "1  -3.360586   Sensible\n",
            "2  -5.044940   Sensible\n",
            "3  -3.741991   Sensible\n",
            "4  -5.142961   Sensible\n",
            "5  -1.235034   Sensible\n",
            "6  -2.632632   Sensible\n",
            "7  -2.963191   Sensible\n",
            "8  -1.449138   Sensible\n",
            "9  -2.350633   Sensible\n",
            "10 -3.380879   Sensible\n",
            "11 -2.255690   Sensible\n",
            "12 -3.223910   Sensible\n",
            "13 -3.400220   Sensible\n",
            "14 -4.256286   Sensible\n",
            "15 -2.999552   Sensible\n",
            "16 -3.055500   Sensible\n",
            "17 -2.060218   Sensible\n",
            "18 -3.354018   Sensible\n",
            "19 -2.450870   Sensible\n",
            "20 -2.784359   Sensible\n",
            "21  0.528845  Resistent\n",
            "22  0.532792  Resistent\n",
            "23 -1.629546   Sensible\n",
            "24 -1.762080   Sensible\n",
            "25 -1.157607   Sensible\n",
            "26 -1.839524   Sensible\n",
            "27 -4.135944   Sensible\n",
            "28 -1.962265   Sensible\n",
            "29  0.133024   Sensible\n",
            "\n",
            "Distribution of the classes :\n",
            "Category\n",
            "Resistent    201480\n",
            "Sensible      40555\n",
            "Name: count, dtype: int64\n"
          ]
        }
      ],
      "source": [
        "# Setting threshold based on common literature standards:\n",
        "\n",
        "# LN(IC50) ≤ 0 (IC50 ≤ 1 μM): Sensitive cells\n",
        "# - Drugs are highly effective at low concentrations (high sensitivity)\n",
        "\n",
        "# LN(IC50) > 0 (IC50 > 1 μM): Resistant cells\n",
        "# - Higher concentrations needed for effectiveness (low sensitivity)\n",
        "\n",
        "# However, we chose LN(IC50) = 0.5 as the threshold\n",
        "\n",
        "# - This provides a more conservative separation, reducing overlap\n",
        "# - Balances the dataset better for classification purposes\n",
        "# - Aligns with our specific dataset distribution and project goals\n",
        "\n",
        "\n",
        "threshold =0.5\n",
        "\n",
        "# creation column 'Category'\n",
        "gdsc['Category'] = gdsc['LN_IC50'].apply(lambda x: 'Sensible' if x <= threshold else 'Resistent')\n",
        "\n",
        "\n",
        "\n",
        "print(gdsc[['LN_IC50', 'Category']].head(30))\n",
        "\n",
        "\n",
        "print(\"\\nDistribution of the classes :\")\n",
        "print(gdsc['Category'].value_counts())\n",
        "\n",
        "\n",
        "\n"
      ]
    },
    {
      "cell_type": "code",
      "execution_count": null,
      "metadata": {
        "colab": {
          "base_uri": "https://localhost:8080/",
          "height": 416
        },
        "id": "GtdYv_003HbQ",
        "outputId": "493d20bc-3646-44bd-c698-f425c849294c"
      },
      "outputs": [
        {
          "output_type": "display_data",
          "data": {
            "text/plain": [
              "<Figure size 600x400 with 1 Axes>"
            ],
            "image/png": "[encoded data removed]"
          },
          "metadata": {}
        }
      ],
      "source": [
        "\n",
        "plt.figure(figsize=(6, 4))\n",
        "sns.countplot(data=gdsc, x='Category', hue='Category', palette='Set2', legend=False)\n",
        "\n",
        "plt.title('Distribution of the Classes  (Sensible vs Resistent)', fontsize=16)\n",
        "plt.xlabel('Category', fontsize=12)\n",
        "plt.ylabel('Frequence', fontsize=12)\n",
        "plt.show()\n",
        "\n"
      ]
    },
    {
      "cell_type": "code",
      "source": [
        "corr = gdsc.corr()\n",
        "print(corr['Category'].sort_values(ascending=False))"
      ],
      "metadata": {
        "colab": {
          "base_uri": "https://localhost:8080/"
        },
        "id": "j3hdccTNezT0",
        "outputId": "a9910f8f-8ad1-4af7-e086-c06856770937"
      },
      "execution_count": null,
      "outputs": [
        {
          "output_type": "stream",
          "name": "stdout",
          "text": [
            "Category                    1.000000\n",
            "Growth Properties           0.080174\n",
            "TARGET                      0.035616\n",
            "DRUG_NAME                   0.019693\n",
            "COSMIC_ID                   0.003201\n",
            "CNA                        -0.003292\n",
            "TCGA_DESC                  -0.003996\n",
            "Methylation                -0.005307\n",
            "Gene Expression            -0.011370\n",
            "GDSC Tissue descriptor 1   -0.011519\n",
            "CELL_LINE_NAME             -0.017624\n",
            "GDSC Tissue descriptor 2   -0.039101\n",
            "TARGET_PATHWAY             -0.044203\n",
            "DRUG_ID                    -0.130223\n",
            "Z_SCORE                    -0.304961\n",
            "AUC                        -0.712440\n",
            "LN_IC50                    -0.768387\n",
            "Name: Category, dtype: float64\n"
          ]
        }
      ]
    },
    {
      "cell_type": "markdown",
      "source": [
        "This approach combines oversampling of the minority class and undersampling of the majority class, creating a balanced training dataset. The resampled data ensured that the models could generalize well and avoid bias towards the majority class.\n",
        "\n"
      ],
      "metadata": {
        "id": "N5C-lP8MD0nL"
      }
    },
    {
      "cell_type": "code",
      "execution_count": null,
      "metadata": {
        "colab": {
          "base_uri": "https://localhost:8080/"
        },
        "id": "hSZnalk3JV4F",
        "outputId": "bf51e9c8-4661-474c-9c5a-96cf2e8ba603"
      },
      "outputs": [
        {
          "output_type": "stream",
          "name": "stdout",
          "text": [
            "Dimension of training Set: (169424, 10)\n",
            "Dimension of  Test set: (72611, 10)\n",
            "Distribution After SMOTE:\n",
            "Category\n",
            "0    137624\n",
            "1    137624\n",
            "Name: count, dtype: int64\n",
            "Distribuzione delle classi nel test set:\n",
            "Category\n",
            "0    60444\n",
            "1    12167\n",
            "Name: count, dtype: int64\n"
          ]
        }
      ],
      "source": [
        "from imblearn.combine import SMOTETomek\n",
        "from sklearn.model_selection import train_test_split\n",
        "\n",
        "X = gdsc.drop(columns=['Category', 'LN_IC50', 'AUC', 'Z_SCORE','COSMIC_ID', 'TCGA_DESC', 'DRUG_NAME'])\n",
        "y = gdsc['Category']  # Target Var\n",
        "\n",
        "# initial Split\n",
        "X_train, X_test, y_train, y_test = train_test_split(X, y, test_size=0.3, random_state=42, stratify=y)\n",
        "\n",
        "print(\"Dimension of training Set:\", X_train.shape)\n",
        "print(\"Dimension of  Test set:\", X_test.shape)\n",
        "\n",
        "\n",
        "#This is to balance the class(I create synthetic data )\n",
        "\n",
        "smote_tomek = SMOTETomek(random_state=42)\n",
        "X_train_resampled, y_train_resampled = smote_tomek.fit_resample(X_train, y_train)\n",
        "\n",
        "print(\"Distribution After SMOTE:\")\n",
        "print(y_train_resampled.value_counts())\n",
        "\n",
        "\n",
        "print(\"Distribuzione delle classi nel test set:\")\n",
        "print(y_test.value_counts())\n",
        "\n",
        "\n"
      ]
    },
    {
      "cell_type": "markdown",
      "source": [
        "The first model trained was a Random Forest Classifier, chosen for its robustness and interpretability. After training on the balanced dataset, the model was evaluated on the original unbalanced test set to simulate real-world conditions"
      ],
      "metadata": {
        "id": "pcJc2q8BD-MF"
      }
    },
    {
      "cell_type": "code",
      "execution_count": null,
      "metadata": {
        "colab": {
          "base_uri": "https://localhost:8080/"
        },
        "id": "xUBlzPZkjEgF",
        "outputId": "c649da43-94a6-41c6-a915-2a51ee302224"
      },
      "outputs": [
        {
          "output_type": "stream",
          "name": "stdout",
          "text": [
            "Average accuracy with cross validation: 0.9507463163566818\n",
            "Accuracy for each fold: [0.90677566 0.96256131 0.96081744 0.96108921 0.96248797]\n"
          ]
        }
      ],
      "source": [
        "\n",
        "from sklearn.ensemble import RandomForestClassifier\n",
        "from sklearn.model_selection import StratifiedKFold, cross_val_score\n",
        "\n",
        "rf = RandomForestClassifier(n_estimators=100, random_state=42)\n",
        "\n",
        "# Cross-validation\n",
        "cv = StratifiedKFold(n_splits=5)  # 5-Fold Cross Validation\n",
        "scores = cross_val_score(rf, X_train_resampled, y_train_resampled, cv=cv, scoring='accuracy')\n",
        "\n",
        "print(\"Average accuracy with cross validation:\", scores.mean())\n",
        "print(\"Accuracy for each fold:\", scores)"
      ]
    },
    {
      "cell_type": "code",
      "execution_count": null,
      "metadata": {
        "colab": {
          "base_uri": "https://localhost:8080/"
        },
        "id": "HitLwoxIsTVJ",
        "outputId": "bd8ec5fc-a450-49f2-a933-1494d072d219"
      },
      "outputs": [
        {
          "output_type": "stream",
          "name": "stdout",
          "text": [
            "Classification Report (Original Unbalanced Test Set):\n",
            "              precision    recall  f1-score   support\n",
            "\n",
            "           0       0.95      0.94      0.94     60444\n",
            "           1       0.71      0.75      0.73     12167\n",
            "\n",
            "    accuracy                           0.91     72611\n",
            "   macro avg       0.83      0.84      0.84     72611\n",
            "weighted avg       0.91      0.91      0.91     72611\n",
            "\n"
          ]
        }
      ],
      "source": [
        "# Evaluation of the model on the original imbalanced dataset\n",
        "# ---------------------------------------------------------\n",
        "# Although the model was trained on a balanced dataset using SMOTETomek,\n",
        "# it is crucial to assess its performance on the original imbalanced dataset.\n",
        "# This approach simulates a real-world scenario where the dataset may be skewed,\n",
        "# ensuring that the model generalizes well beyond the artificially balanced training data.\n",
        "# Main objectives:\n",
        "# - Test if the model remains accurate when handling imbalanced distributions.\n",
        "# - Identify any overfitting caused by training on the SMOTETomek-balanced dataset.\n",
        "# - Verify the robustness of the model in realistic scenarios with non-uniform class distributions.\n",
        "# ---------------------------------------------------------\n",
        "\n",
        "# Training\n",
        "rf.fit(X_train_resampled, y_train_resampled)\n",
        "\n",
        "# Evaluation on  Test Set\n",
        "y_pred_unbalanced = rf.predict(X_test)\n",
        "\n",
        "\n",
        "print(\"Classification Report (Original Unbalanced Test Set):\")\n",
        "print(classification_report(y_test, y_pred_unbalanced))\n"
      ]
    },
    {
      "cell_type": "markdown",
      "source": [
        "The performance of the trained models was visualized using a confusion matrix and an ROC curve. The confusion matrix illustrated the model's predictions compared to the actual labels, while the ROC curve depicted the trade-off between sensitivity and specificity, with the AUC value summarizing overall performance."
      ],
      "metadata": {
        "id": "w6H3UyaNEIN6"
      }
    },
    {
      "cell_type": "code",
      "execution_count": null,
      "metadata": {
        "colab": {
          "base_uri": "https://localhost:8080/",
          "height": 472
        },
        "id": "Xvos2QzFm-bm",
        "outputId": "8c3fa378-18e6-4bc3-87cb-f383b0304d80"
      },
      "outputs": [
        {
          "output_type": "display_data",
          "data": {
            "text/plain": [
              "<Figure size 640x480 with 2 Axes>"
            ],
            "image/png": "[encoded data removed]"
          },
          "metadata": {}
        }
      ],
      "source": [
        "from sklearn.metrics import confusion_matrix, ConfusionMatrixDisplay,classification_report\n",
        "\n",
        "\n",
        "conf_matrix = confusion_matrix(y_test, y_pred_unbalanced)\n",
        "\n",
        "\n",
        "cmd = ConfusionMatrixDisplay(conf_matrix, display_labels=[\"Resistent\", \"Sensible\"])\n",
        "\n",
        "\n",
        "cmd.plot(cmap=\"Blues\", values_format='d')\n",
        "plt.title(\"Confusion Matrix (Resistent vs Sensible)\")\n",
        "plt.show()"
      ]
    },
    {
      "cell_type": "code",
      "execution_count": null,
      "metadata": {
        "colab": {
          "base_uri": "https://localhost:8080/",
          "height": 410
        },
        "id": "qx_zdotUnA79",
        "outputId": "5878d787-742b-49f9-a804-ec8f93683836"
      },
      "outputs": [
        {
          "output_type": "display_data",
          "data": {
            "text/plain": [
              "<Figure size 600x400 with 1 Axes>"
            ],
            "image/png": "[encoded data removed]"
          },
          "metadata": {}
        }
      ],
      "source": [
        "from sklearn.metrics import roc_curve, auc\n",
        "\n",
        "\n",
        "y_prob = rf.predict_proba(X_test)[:, 1]\n",
        "\n",
        "fpr, tpr, _ = roc_curve(y_test, y_prob)\n",
        "roc_auc = auc(fpr, tpr)\n",
        "\n",
        "\n",
        "import matplotlib.pyplot as plt\n",
        "\n",
        "plt.figure(figsize=(6, 4))\n",
        "plt.plot(fpr, tpr, label=f\"AUC = {roc_auc:.2f}\")\n",
        "plt.plot([0, 1], [0, 1], linestyle=\"--\", color=\"red\")\n",
        "plt.title(\"ROC Curve\")\n",
        "plt.xlabel(\"False Positive Rate\")\n",
        "plt.ylabel(\"True Positive Rate\")\n",
        "plt.legend()\n",
        "plt.show()\n",
        "\n"
      ]
    },
    {
      "cell_type": "markdown",
      "source": [
        "The feature importance analysis reveals key biological insights into drug sensitivity. DRUG_ID emerges as the most significant feature, emphasizing that the chemical and pharmacological properties of specific drugs strongly influence the response. Similarly, TARGET and TARGET_PATHWAY highlight the critical role of molecular targets and the biological pathways they regulate, suggesting that the effectiveness of a drug is tightly linked to its mechanism of action and the cellular processes it disrupts. Tissue descriptors (GDSC Tissue descriptor 1 and GDSC Tissue descriptor 2) indicate that the tissue origin of cell lines impacts their sensitivity, possibly reflecting variations in tissue-specific gene expression or drug metabolism. Together, these findings underline the complex interplay between drug properties, molecular targets, and tissue context, offering valuable insights for tailoring treatments in precision medicine"
      ],
      "metadata": {
        "id": "p2nAv-cZFEE0"
      }
    },
    {
      "cell_type": "code",
      "execution_count": null,
      "metadata": {
        "colab": {
          "base_uri": "https://localhost:8080/",
          "height": 570
        },
        "id": "haxOzFxlzmj9",
        "outputId": "d42c8dee-260f-4f0e-97d8-911c903ef2f9"
      },
      "outputs": [
        {
          "output_type": "display_data",
          "data": {
            "text/plain": [
              "<Figure size 1000x600 with 1 Axes>"
            ],
            "image/png": "[encoded data removed]"
          },
          "metadata": {}
        }
      ],
      "source": [
        "\n",
        "feature_importances = pd.Series(rf.feature_importances_, index=X_train.columns)\n",
        "\n",
        "\n",
        "plt.figure(figsize=(10, 6))\n",
        "feature_importances.nlargest(10).plot(kind='barh', color='skyblue')\n",
        "plt.title('Top 10 Most Important Features', fontsize=16)\n",
        "plt.xlabel('Feature Importance Score', fontsize=12)\n",
        "plt.ylabel('Features', fontsize=12)\n",
        "plt.show()"
      ]
    },
    {
      "cell_type": "markdown",
      "source": [
        "A second model, the XGBoost Classifier, was optimized using RandomizedSearchCV for hyperparameter tuning\n",
        "The classification report shows improvements in metrics such as precision, recall, and F1-score compared to the Random Forest model, particularly for the minority class (Sensitive)."
      ],
      "metadata": {
        "id": "nwTIZkWyEEP3"
      }
    },
    {
      "cell_type": "code",
      "execution_count": null,
      "metadata": {
        "colab": {
          "base_uri": "https://localhost:8080/"
        },
        "id": "uzwh8NzKhp-J",
        "outputId": "c2e1c473-7be0-477d-b3ca-26fc7a1b9c17"
      },
      "outputs": [
        {
          "output_type": "stream",
          "name": "stdout",
          "text": [
            "Fitting 5 folds for each of 50 candidates, totalling 250 fits\n",
            "Best Parameters: {'subsample': 0.6, 'n_estimators': 100, 'min_child_weight': 1, 'max_depth': 10, 'learning_rate': 0.1, 'gamma': 0.3, 'colsample_bytree': 1.0}\n",
            "Classification Report (XGBoost - Random Search):\n",
            "              precision    recall  f1-score   support\n",
            "\n",
            "           0       0.96      0.94      0.95     60444\n",
            "           1       0.73      0.82      0.77     12167\n",
            "\n",
            "    accuracy                           0.92     72611\n",
            "   macro avg       0.85      0.88      0.86     72611\n",
            "weighted avg       0.92      0.92      0.92     72611\n",
            "\n"
          ]
        }
      ],
      "source": [
        "from sklearn.model_selection import RandomizedSearchCV\n",
        "from xgboost import XGBClassifier\n",
        "from sklearn.metrics import classification_report\n",
        "\n",
        "\n",
        "le_y = LabelEncoder()\n",
        "y_train_resampled_encoded = le_y.fit_transform(y_train_resampled)\n",
        "y_test_encoded = le_y.transform(y_test)\n",
        "\n",
        "\n",
        "xgb = XGBClassifier(random_state=42)\n",
        "\n",
        "\n",
        "param_dist = {\n",
        "    'n_estimators': [50, 100, 200],\n",
        "    'learning_rate': [0.01, 0.05, 0.1],\n",
        "    'max_depth': [3, 5, 7, 10],\n",
        "    'min_child_weight': [1, 3, 5],\n",
        "    'gamma': [0, 0.1, 0.2, 0.3],\n",
        "    'subsample': [0.6, 0.8, 1.0],\n",
        "    'colsample_bytree': [0.6, 0.8, 1.0],\n",
        "}\n",
        "\n",
        "random_search = RandomizedSearchCV(\n",
        "    estimator=xgb,\n",
        "    param_distributions=param_dist,\n",
        "    n_iter=50,\n",
        "    scoring='accuracy',\n",
        "    cv=5,\n",
        "    verbose=2,\n",
        "    random_state=42,\n",
        "    n_jobs=-1\n",
        ")\n",
        "\n",
        "\n",
        "random_search.fit(X_train_resampled, y_train_resampled_encoded)\n",
        "\n",
        "\n",
        "print(\"Best Parameters:\", random_search.best_params_)\n",
        "\n",
        "\n",
        "best_xgb = random_search.best_estimator_\n",
        "\n",
        "\n",
        "y_pred_xgb = best_xgb.predict(X_test)\n",
        "y_pred_xgb_decoded = le_y.inverse_transform(y_pred_xgb)\n",
        "\n",
        "\n",
        "print(\"Classification Report (XGBoost - Random Search):\")\n",
        "print(classification_report(y_test, y_pred_xgb_decoded))\n",
        "\n"
      ]
    }
  ],
  "metadata": {
    "colab": {
      "provenance": []
    },
    "kernelspec": {
      "display_name": "Python 3",
      "name": "python3"
    },
    "language_info": {
      "name": "python"
    }
  },
  "nbformat": 4,
  "nbformat_minor": 0
}